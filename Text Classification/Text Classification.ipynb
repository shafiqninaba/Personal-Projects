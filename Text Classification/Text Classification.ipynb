{
 "cells": [
  {
   "cell_type": "markdown",
   "metadata": {},
   "source": [
    "<h1>Predicting whether a movie review is Negative or Positive</h1>"
   ]
  },
  {
   "cell_type": "code",
   "execution_count": 1,
   "metadata": {},
   "outputs": [],
   "source": [
    "import numpy as np\n",
    "import pandas as pd\n",
    "\n",
    "df = pd.read_csv('moviereviews.tsv', sep='\\t')"
   ]
  },
  {
   "cell_type": "code",
   "execution_count": 2,
   "metadata": {},
   "outputs": [
    {
     "data": {
      "text/html": [
       "<div>\n",
       "<style scoped>\n",
       "    .dataframe tbody tr th:only-of-type {\n",
       "        vertical-align: middle;\n",
       "    }\n",
       "\n",
       "    .dataframe tbody tr th {\n",
       "        vertical-align: top;\n",
       "    }\n",
       "\n",
       "    .dataframe thead th {\n",
       "        text-align: right;\n",
       "    }\n",
       "</style>\n",
       "<table border=\"1\" class=\"dataframe\">\n",
       "  <thead>\n",
       "    <tr style=\"text-align: right;\">\n",
       "      <th></th>\n",
       "      <th>label</th>\n",
       "      <th>review</th>\n",
       "    </tr>\n",
       "  </thead>\n",
       "  <tbody>\n",
       "    <tr>\n",
       "      <th>0</th>\n",
       "      <td>neg</td>\n",
       "      <td>how do films like mouse hunt get into theatres...</td>\n",
       "    </tr>\n",
       "    <tr>\n",
       "      <th>1</th>\n",
       "      <td>neg</td>\n",
       "      <td>some talented actresses are blessed with a dem...</td>\n",
       "    </tr>\n",
       "    <tr>\n",
       "      <th>2</th>\n",
       "      <td>pos</td>\n",
       "      <td>this has been an extraordinary year for austra...</td>\n",
       "    </tr>\n",
       "    <tr>\n",
       "      <th>3</th>\n",
       "      <td>pos</td>\n",
       "      <td>according to hollywood movies made in last few...</td>\n",
       "    </tr>\n",
       "    <tr>\n",
       "      <th>4</th>\n",
       "      <td>neg</td>\n",
       "      <td>my first press screening of 1998 and already i...</td>\n",
       "    </tr>\n",
       "  </tbody>\n",
       "</table>\n",
       "</div>"
      ],
      "text/plain": [
       "  label                                             review\n",
       "0   neg  how do films like mouse hunt get into theatres...\n",
       "1   neg  some talented actresses are blessed with a dem...\n",
       "2   pos  this has been an extraordinary year for austra...\n",
       "3   pos  according to hollywood movies made in last few...\n",
       "4   neg  my first press screening of 1998 and already i..."
      ]
     },
     "execution_count": 2,
     "metadata": {},
     "output_type": "execute_result"
    }
   ],
   "source": [
    "df.head()"
   ]
  },
  {
   "cell_type": "code",
   "execution_count": 3,
   "metadata": {},
   "outputs": [
    {
     "data": {
      "text/plain": [
       "label      0\n",
       "review    35\n",
       "dtype: int64"
      ]
     },
     "execution_count": 3,
     "metadata": {},
     "output_type": "execute_result"
    }
   ],
   "source": [
    "# checking for NaN values\n",
    "df.isnull().sum()"
   ]
  },
  {
   "cell_type": "code",
   "execution_count": 4,
   "metadata": {},
   "outputs": [],
   "source": [
    "# removing the NaN values\n",
    "df.dropna(inplace=True)"
   ]
  },
  {
   "cell_type": "code",
   "execution_count": 5,
   "metadata": {},
   "outputs": [
    {
     "name": "stdout",
     "output_type": "stream",
     "text": [
      "27 Blanks:\n",
      " [57, 71, 147, 151, 283, 307, 313, 323, 343, 351, 427, 501, 633, 675, 815, 851, 977, 1079, 1299, 1455, 1493, 1525, 1531, 1763, 1851, 1905, 1993]\n"
     ]
    }
   ],
   "source": [
    "# detecting empty strings\n",
    "blanks = []\n",
    "\n",
    "for index,label,review in df.itertuples():\n",
    "    if type(review)==str:\n",
    "        if review.isspace():\n",
    "            blanks.append(index)\n",
    "\n",
    "print(len(blanks),'Blanks:\\n',blanks)"
   ]
  },
  {
   "cell_type": "code",
   "execution_count": 6,
   "metadata": {},
   "outputs": [],
   "source": [
    "# removing empty strings from dataset\n",
    "df.drop(blanks, inplace=True)"
   ]
  },
  {
   "cell_type": "code",
   "execution_count": 7,
   "metadata": {},
   "outputs": [],
   "source": [
    "# splitting data into train & test sets\n",
    "\n",
    "from sklearn.model_selection import train_test_split\n",
    "\n",
    "X = df['review']\n",
    "y = df['label']\n",
    "\n",
    "X_train, X_test, y_train, y_test = train_test_split(X,y,test_size=0.33)"
   ]
  },
  {
   "cell_type": "code",
   "execution_count": 8,
   "metadata": {},
   "outputs": [],
   "source": [
    "#function to print out the scores of the pipelines\n",
    "def print_scores(y_test, predictions):\n",
    "    \n",
    "    #printing confusion matrix\n",
    "    print('Confusion Matrix'.center(30,'-'))\n",
    "    print(metrics.confusion_matrix(y_test,predictions))\n",
    "    \n",
    "    #printing classification report\n",
    "    print('Classification Report'.center(30,'-'))\n",
    "    print(metrics.classification_report(y_test,predictions))\n",
    "    \n",
    "    #printing accuracy score\n",
    "    print('Accuracy Score: ',metrics.accuracy_score(y_test,predictions),'\\n')"
   ]
  },
  {
   "cell_type": "code",
   "execution_count": 9,
   "metadata": {},
   "outputs": [
    {
     "name": "stdout",
     "output_type": "stream",
     "text": [
      "------------------Naive Bayes pipeline----------------- \n",
      "\n",
      "-------Confusion Matrix-------\n",
      "[[280  40]\n",
      " [ 82 238]]\n",
      "----Classification Report-----\n",
      "              precision    recall  f1-score   support\n",
      "\n",
      "         neg       0.77      0.88      0.82       320\n",
      "         pos       0.86      0.74      0.80       320\n",
      "\n",
      "    accuracy                           0.81       640\n",
      "   macro avg       0.81      0.81      0.81       640\n",
      "weighted avg       0.81      0.81      0.81       640\n",
      "\n",
      "Accuracy Score:  0.809375 \n",
      "\n",
      "-------------------LinearSVC pipeline------------------ \n",
      "\n",
      "-------Confusion Matrix-------\n",
      "[[270  50]\n",
      " [ 49 271]]\n",
      "----Classification Report-----\n",
      "              precision    recall  f1-score   support\n",
      "\n",
      "         neg       0.85      0.84      0.85       320\n",
      "         pos       0.84      0.85      0.85       320\n",
      "\n",
      "    accuracy                           0.85       640\n",
      "   macro avg       0.85      0.85      0.85       640\n",
      "weighted avg       0.85      0.85      0.85       640\n",
      "\n",
      "Accuracy Score:  0.8453125 \n",
      "\n"
     ]
    }
   ],
   "source": [
    "# building pipelines to vectorize the data, and comparing their scores\n",
    "from sklearn.pipeline import Pipeline\n",
    "from sklearn.feature_extraction.text import TfidfVectorizer\n",
    "from sklearn.naive_bayes import MultinomialNB\n",
    "from sklearn.svm import LinearSVC\n",
    "from sklearn import metrics\n",
    "\n",
    "# ---- Naive Bayes pipeline ----\n",
    "text_clf_nb = Pipeline([('tfidf', TfidfVectorizer(stop_words='english')),('clf', MultinomialNB())])\n",
    "text_clf_nb.fit(X_train, y_train)\n",
    "\n",
    "# forming a prediction set\n",
    "predictions_nb = text_clf_nb.predict(X_test)\n",
    "\n",
    "# printing Naive Bayes scores\n",
    "print('Naive Bayes pipeline'.center(55,'-'),'\\n')\n",
    "print_scores(y_test,predictions_nb)\n",
    "\n",
    "# ----LinearSVC pipeline----\n",
    "text_clf_lsvc = Pipeline([('tfidf', TfidfVectorizer(stop_words='english')),('clf', LinearSVC())])\n",
    "text_clf_lsvc.fit(X_train, y_train)\n",
    "\n",
    "# forming a prediction set\n",
    "predictions_lsvc = text_clf_lsvc.predict(X_test)\n",
    "\n",
    "# printing out LSVC scores\n",
    "print('LinearSVC pipeline'.center(55,'-'),'\\n')\n",
    "print_scores(y_test,predictions_lsvc)"
   ]
  },
  {
   "cell_type": "markdown",
   "metadata": {},
   "source": [
    "This next portion uses VADER sentiment analysis instead"
   ]
  },
  {
   "cell_type": "code",
   "execution_count": 10,
   "metadata": {},
   "outputs": [
    {
     "name": "stdout",
     "output_type": "stream",
     "text": [
      "-------Confusion Matrix-------\n",
      "[[427 542]\n",
      " [164 805]]\n",
      "----Classification Report-----\n",
      "              precision    recall  f1-score   support\n",
      "\n",
      "         neg       0.72      0.44      0.55       969\n",
      "         pos       0.60      0.83      0.70       969\n",
      "\n",
      "    accuracy                           0.64      1938\n",
      "   macro avg       0.66      0.64      0.62      1938\n",
      "weighted avg       0.66      0.64      0.62      1938\n",
      "\n",
      "Accuracy Score:  0.6357069143446853 \n",
      "\n"
     ]
    }
   ],
   "source": [
    "from nltk.sentiment.vader import SentimentIntensityAnalyzer\n",
    "\n",
    "sid = SentimentIntensityAnalyzer()\n",
    "\n",
    "# using sid to attach compound sores to dataset\n",
    "df['scores'] = df['review'].apply(lambda review: sid.polarity_scores(review))\n",
    "df['compound']  = df['scores'].apply(lambda score_dict: score_dict['compound'])\n",
    "df['comp_score'] = df['compound'].apply(lambda c: 'pos' if c >=0 else 'neg')\n",
    "\n",
    "# printing out scores\n",
    "print_scores(df['label'],df['comp_score'])"
   ]
  },
  {
   "cell_type": "code",
   "execution_count": 11,
   "metadata": {},
   "outputs": [
    {
     "name": "stdout",
     "output_type": "stream",
     "text": [
      "Naive Bayes: ['neg']\n",
      "LinearSVC: ['neg']\n",
      "NLTK VADER: Positive\n"
     ]
    }
   ],
   "source": [
    "# testing out my own movie review\n",
    "\n",
    "myreview = \"A movie I really wanted to love was terrible. \\\n",
    "I'm sure the producers had the best intentions, but the execution was lacking.\"\n",
    "\n",
    "print('Naive Bayes:',text_clf_nb.predict([myreview]))\n",
    "\n",
    "print('LinearSVC:' ,text_clf_lsvc.predict([myreview]))\n",
    "\n",
    "if sid.polarity_scores(myreview)['compound'] > 0:\n",
    "    print('NLTK VADER: Positive')\n",
    "elif sid.polarity_scores(myreview)['compound'] < 0:\n",
    "    print('NLTK VADER: Negative')\n",
    "else:\n",
    "    print('Neutral')"
   ]
  }
 ],
 "metadata": {
  "kernelspec": {
   "display_name": "Python 3",
   "language": "python",
   "name": "python3"
  },
  "language_info": {
   "codemirror_mode": {
    "name": "ipython",
    "version": 3
   },
   "file_extension": ".py",
   "mimetype": "text/x-python",
   "name": "python",
   "nbconvert_exporter": "python",
   "pygments_lexer": "ipython3",
   "version": "3.8.5"
  }
 },
 "nbformat": 4,
 "nbformat_minor": 4
}
